{
 "cells": [
  {
   "cell_type": "code",
   "execution_count": 2,
   "metadata": {},
   "outputs": [
    {
     "ename": "TimeoutException",
     "evalue": "Message: \nStacktrace:\n0   chromedriver                        0x0000000103266a80 chromedriver + 4385408\n1   chromedriver                        0x000000010325f38c chromedriver + 4354956\n2   chromedriver                        0x0000000102e7cb0c chromedriver + 281356\n3   chromedriver                        0x0000000102ebf2f8 chromedriver + 553720\n4   chromedriver                        0x0000000102ef7d24 chromedriver + 785700\n5   chromedriver                        0x0000000102eb3eec chromedriver + 507628\n6   chromedriver                        0x0000000102eb48c4 chromedriver + 510148\n7   chromedriver                        0x000000010322e43c chromedriver + 4154428\n8   chromedriver                        0x0000000103232ea0 chromedriver + 4173472\n9   chromedriver                        0x0000000103213ff8 chromedriver + 4046840\n10  chromedriver                        0x000000010323378c chromedriver + 4175756\n11  chromedriver                        0x0000000103206fb8 chromedriver + 3993528\n12  chromedriver                        0x000000010325121c chromedriver + 4297244\n13  chromedriver                        0x0000000103251398 chromedriver + 4297624\n14  chromedriver                        0x000000010325ef84 chromedriver + 4353924\n15  libsystem_pthread.dylib             0x00000001845aef94 _pthread_start + 136\n16  libsystem_pthread.dylib             0x00000001845a9d34 thread_start + 8\n",
     "output_type": "error",
     "traceback": [
      "\u001b[0;31m---------------------------------------------------------------------------\u001b[0m",
      "\u001b[0;31mTimeoutException\u001b[0m                          Traceback (most recent call last)",
      "Cell \u001b[0;32mIn[2], line 19\u001b[0m\n\u001b[1;32m     16\u001b[0m wait \u001b[38;5;241m=\u001b[39m WebDriverWait(driver, \u001b[38;5;241m10\u001b[39m)\n\u001b[1;32m     18\u001b[0m \u001b[38;5;66;03m# Fill in \"Collision Date\" fields\u001b[39;00m\n\u001b[0;32m---> 19\u001b[0m date_from \u001b[38;5;241m=\u001b[39m \u001b[43mwait\u001b[49m\u001b[38;5;241;43m.\u001b[39;49m\u001b[43muntil\u001b[49m\u001b[43m(\u001b[49m\u001b[43mEC\u001b[49m\u001b[38;5;241;43m.\u001b[39;49m\u001b[43mpresence_of_element_located\u001b[49m\u001b[43m(\u001b[49m\u001b[43m(\u001b[49m\u001b[43mBy\u001b[49m\u001b[38;5;241;43m.\u001b[39;49m\u001b[43mNAME\u001b[49m\u001b[43m,\u001b[49m\u001b[43m \u001b[49m\u001b[38;5;124;43m'\u001b[39;49m\u001b[38;5;124;43mcollisionDateFrom\u001b[39;49m\u001b[38;5;124;43m'\u001b[39;49m\u001b[43m)\u001b[49m\u001b[43m)\u001b[49m\u001b[43m)\u001b[49m\n\u001b[1;32m     20\u001b[0m date_from\u001b[38;5;241m.\u001b[39msend_keys(\u001b[38;5;124m'\u001b[39m\u001b[38;5;124m01/01/2024\u001b[39m\u001b[38;5;124m'\u001b[39m)\n\u001b[1;32m     22\u001b[0m date_to \u001b[38;5;241m=\u001b[39m driver\u001b[38;5;241m.\u001b[39mfind_element(By\u001b[38;5;241m.\u001b[39mNAME, \u001b[38;5;124m'\u001b[39m\u001b[38;5;124mcollisionDateTo\u001b[39m\u001b[38;5;124m'\u001b[39m)\n",
      "File \u001b[0;32m~/Git/CodeYou_Capstone/venv/lib/python3.12/site-packages/selenium/webdriver/support/wait.py:105\u001b[0m, in \u001b[0;36mWebDriverWait.until\u001b[0;34m(self, method, message)\u001b[0m\n\u001b[1;32m    103\u001b[0m     \u001b[38;5;28;01mif\u001b[39;00m time\u001b[38;5;241m.\u001b[39mmonotonic() \u001b[38;5;241m>\u001b[39m end_time:\n\u001b[1;32m    104\u001b[0m         \u001b[38;5;28;01mbreak\u001b[39;00m\n\u001b[0;32m--> 105\u001b[0m \u001b[38;5;28;01mraise\u001b[39;00m TimeoutException(message, screen, stacktrace)\n",
      "\u001b[0;31mTimeoutException\u001b[0m: Message: \nStacktrace:\n0   chromedriver                        0x0000000103266a80 chromedriver + 4385408\n1   chromedriver                        0x000000010325f38c chromedriver + 4354956\n2   chromedriver                        0x0000000102e7cb0c chromedriver + 281356\n3   chromedriver                        0x0000000102ebf2f8 chromedriver + 553720\n4   chromedriver                        0x0000000102ef7d24 chromedriver + 785700\n5   chromedriver                        0x0000000102eb3eec chromedriver + 507628\n6   chromedriver                        0x0000000102eb48c4 chromedriver + 510148\n7   chromedriver                        0x000000010322e43c chromedriver + 4154428\n8   chromedriver                        0x0000000103232ea0 chromedriver + 4173472\n9   chromedriver                        0x0000000103213ff8 chromedriver + 4046840\n10  chromedriver                        0x000000010323378c chromedriver + 4175756\n11  chromedriver                        0x0000000103206fb8 chromedriver + 3993528\n12  chromedriver                        0x000000010325121c chromedriver + 4297244\n13  chromedriver                        0x0000000103251398 chromedriver + 4297624\n14  chromedriver                        0x000000010325ef84 chromedriver + 4353924\n15  libsystem_pthread.dylib             0x00000001845aef94 _pthread_start + 136\n16  libsystem_pthread.dylib             0x00000001845a9d34 thread_start + 8\n"
     ]
    }
   ],
   "source": [
    "from selenium import webdriver\n",
    "from selenium.webdriver.common.by import By\n",
    "from selenium.webdriver.support.ui import WebDriverWait\n",
    "from selenium.webdriver.support import expected_conditions as EC\n",
    "from selenium.webdriver.common.keys import Keys\n",
    "import time\n",
    "\n",
    "# Setup Selenium WebDriver (ensure you have the appropriate driver installed)\n",
    "driver = webdriver.Chrome()\n",
    "\n",
    "try:\n",
    "    # Navigate to the page\n",
    "    driver.get('http://crashinformationky.org/AdvancedSearch')\n",
    "\n",
    "    # Wait until the elements are present\n",
    "    wait = WebDriverWait(driver, 10)\n",
    "\n",
    "    # Fill in \"Collision Date\" fields\n",
    "    date_from = wait.until(EC.presence_of_element_located((By.NAME, 'collisionDateFrom')))\n",
    "    date_from.send_keys('01/01/2024')\n",
    "\n",
    "    date_to = driver.find_element(By.NAME, 'collisionDateTo')\n",
    "    date_to.send_keys('06/26/2024')\n",
    "\n",
    "    # Fill in \"Environmental Factors code\"\n",
    "    env_factors = driver.find_element(By.NAME, 'environmentalFactors')\n",
    "    env_factors.send_keys('CONSTRUCTION WORK ZONE')\n",
    "\n",
    "    # Click the \"Execution\" button\n",
    "    execute_button = driver.find_element(By.ID, 'searchButton')\n",
    "    execute_button.click()\n",
    "\n",
    "    # Wait for the results table to load\n",
    "    wait.until(EC.presence_of_element_located((By.ID, 'resultsTable')))\n",
    "\n",
    "    # Select the export option for \"CSV\"\n",
    "    export_option = driver.find_element(By.ID, 'exportCSV')\n",
    "    export_option.click()\n",
    "\n",
    "    # Wait for the download link to appear and download the CSV\n",
    "    download_link = wait.until(EC.element_to_be_clickable((By.ID, 'downloadLink')))\n",
    "    download_link.click()\n",
    "\n",
    "    # Wait for some time to ensure the file is downloaded\n",
    "    time.sleep(10)\n",
    "\n",
    "    print('CSV file downloaded successfully.')\n",
    "\n",
    "finally:\n",
    "    # Close the driver\n",
    "    driver.quit()\n"
   ]
  }
 ],
 "metadata": {
  "kernelspec": {
   "display_name": "venv",
   "language": "python",
   "name": "python3"
  },
  "language_info": {
   "codemirror_mode": {
    "name": "ipython",
    "version": 3
   },
   "file_extension": ".py",
   "mimetype": "text/x-python",
   "name": "python",
   "nbconvert_exporter": "python",
   "pygments_lexer": "ipython3",
   "version": "3.12.2"
  }
 },
 "nbformat": 4,
 "nbformat_minor": 2
}
