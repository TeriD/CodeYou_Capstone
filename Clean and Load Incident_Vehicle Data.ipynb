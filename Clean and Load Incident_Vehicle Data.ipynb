{
 "cells": [
  {
   "cell_type": "markdown",
   "metadata": {},
   "source": [
    "This script will clean the raw downloaded KSP incident vehicle datasets and exports the cleaned and combined dataset as a csv file and then uploads to the previously created SQLite database."
   ]
  },
  {
   "cell_type": "code",
   "execution_count": 1,
   "metadata": {},
   "outputs": [],
   "source": [
    "import os\n",
    "import pandas as pd\n",
    "import sqlite3"
   ]
  },
  {
   "cell_type": "code",
   "execution_count": 2,
   "metadata": {},
   "outputs": [],
   "source": [
    "# Define the path for the SQLite database\n",
    "database_path = r'/Users/terid/Git/CodeYou_Capstone/data/crash_data.db'\n",
    "os.makedirs(os.path.dirname(database_path), exist_ok=True)\n",
    "\n",
    "# Define the path for the raw crash data files downloaded\n",
    "directory_path = '/Users/terid/Git/CodeYou_Capstone/data/raw_crash_data'"
   ]
  },
  {
   "cell_type": "code",
   "execution_count": 3,
   "metadata": {},
   "outputs": [],
   "source": [
    "# Function to check if tables created in the database exist\n",
    "def check_table_exists(db_path, table_name):\n",
    "    # Connect to the SQLite database\n",
    "    conn = sqlite3.connect(db_path)\n",
    "    cursor = conn.cursor()\n",
    "\n",
    "    # Query to check if the table exists\n",
    "    cursor.execute('''\n",
    "        SELECT name\n",
    "        FROM sqlite_master\n",
    "        WHERE type='table' AND name=?\n",
    "    ''', (table_name,))\n",
    "\n",
    "    # Fetch one record\n",
    "    table_exists = cursor.fetchone() is not None\n",
    "\n",
    "    # Close the connection\n",
    "    conn.close()\n",
    "\n",
    "    return table_exists"
   ]
  },
  {
   "cell_type": "code",
   "execution_count": 4,
   "metadata": {},
   "outputs": [],
   "source": [
    "# Function to check if tables created in the database have data\n",
    "def check_table_has_data(db_path, table_name):\n",
    "    # Connect to the SQLite database\n",
    "    conn = sqlite3.connect(db_path)\n",
    "    cursor = conn.cursor()\n",
    "\n",
    "    # Query to count the number of rows in the table\n",
    "    cursor.execute(f'SELECT COUNT(*) FROM {table_name}')\n",
    "\n",
    "    # Fetch the count\n",
    "    row_count = cursor.fetchone()[0]\n",
    "\n",
    "    # Close the connection\n",
    "    conn.close()\n",
    "\n",
    "    return row_count > 0\n"
   ]
  },
  {
   "cell_type": "code",
   "execution_count": 5,
   "metadata": {},
   "outputs": [],
   "source": [
    "# Create/Connect to SQLite database\n",
    "conn = sqlite3.connect(database_path)\n",
    "cursor = conn.cursor()"
   ]
  },
  {
   "cell_type": "code",
   "execution_count": 39,
   "metadata": {},
   "outputs": [
    {
     "data": {
      "text/plain": [
       "<sqlite3.Cursor at 0x124ccb0c0>"
      ]
     },
     "execution_count": 39,
     "metadata": {},
     "output_type": "execute_result"
    }
   ],
   "source": [
    "# Create table incident_vehicles in database\n",
    "cursor.execute('''CREATE TABLE IF NOT EXISTS incident_vehicles (\n",
    "        IncidentID INT,\n",
    "        UnitNumber INT,\n",
    "        UnitType TEXT,\n",
    "        AirbagSwitchCde TEXT,\n",
    "        IsCommercialVeh TEXT,\n",
    "        CrashAvoidCde TEXT,\n",
    "        DriverIdentifiedCde TEXT,\n",
    "        EventCollWithFirstCde TEXT,\n",
    "        EventCollWithSecondCde TEXT,\n",
    "        HasFire TEXT,\n",
    "        PreCollActionCde TEXT,\n",
    "        UnderOverrideCde TEXT,\n",
    "        VehicleIsInsured TEXT,\n",
    "        MakeCde TEXT,\n",
    "        ModelCde TEXT,\n",
    "        VehicleType TEXT,\n",
    "        MakeDescription TEXT,\n",
    "        ModelDescription TEXT);''')"
   ]
  },
  {
   "cell_type": "code",
   "execution_count": 6,
   "metadata": {},
   "outputs": [
    {
     "name": "stdout",
     "output_type": "stream",
     "text": [
      "['IncidentID', 'UnitNumber', 'UnitType', 'AirbagSwitchCde', 'IsCommercialVeh', 'CrashAvoidCde', 'DriverIdentifiedCde', 'EventCollWithFirstCde', 'EventCollWithSecondCde', 'HasFire', 'PreCollActionCde', 'UnderOverrideCde', 'VehicleIsInsured', 'MakeCde', 'ModelCde', 'VehicleType', 'MakeDescription', 'ModelDescription', 'Unnamed: 18']\n"
     ]
    }
   ],
   "source": [
    "# temp section to read the column names to create table columns\n",
    "\n",
    "def read_column_names(csv_file_path):\n",
    "\n",
    "    # Read only the first row of the CSV to get the column names\n",
    "    df = pd.read_csv(csv_file_path, nrows=0)\n",
    "    column_names = df.columns.tolist()\n",
    "    return column_names\n",
    "\n",
    "# Read the column names from the CSV file\n",
    "csv_file_path = '/Users/terid/Git/CodeYou_Capstone/data/raw_crash_data/Vehicles_2024.csv'\n",
    "\n",
    "columns = read_column_names(csv_file_path)\n",
    "print(columns)\n"
   ]
  },
  {
   "cell_type": "code",
   "execution_count": 9,
   "metadata": {},
   "outputs": [
    {
     "name": "stdout",
     "output_type": "stream",
     "text": [
      "The table 'incident_vehicles' exists.\n"
     ]
    }
   ],
   "source": [
    "# Check to see if tables created exist\n",
    "table_name = 'incident_vehicles'\n",
    "\n",
    "if check_table_exists(database_path, table_name):\n",
    "    print(f\"The table '{table_name}' exists.\")\n",
    "else:\n",
    "    print(f\"The table '{table_name}' does not exist.\")\n"
   ]
  },
  {
   "cell_type": "code",
   "execution_count": 10,
   "metadata": {},
   "outputs": [
    {
     "name": "stdout",
     "output_type": "stream",
     "text": [
      "The table 'incident_vehicles' contains data.\n"
     ]
    }
   ],
   "source": [
    "# Check of tables created are empty\n",
    "\n",
    "table_name = 'incident_vehicles'\n",
    "\n",
    "if check_table_has_data(database_path, table_name):\n",
    "    print(f\"The table '{table_name}' contains data.\")\n",
    "else:\n",
    "    print(f\"The table '{table_name}' is empty.\")\n"
   ]
  },
  {
   "cell_type": "code",
   "execution_count": 76,
   "metadata": {},
   "outputs": [
    {
     "name": "stdout",
     "output_type": "stream",
     "text": [
      "All CSV files have been successfully loaded into a single DataFrame.\n",
      "      IncidentId  TrafficControlNo       TrafficControl\n",
      "0       26133281                 1     STOP & GO SIGNAL\n",
      "1       26146419                 1  ADVISORY SPEED SIGN\n",
      "2       26146419                 2          CENTER LINE\n",
      "3       26146419                 3                OTHER\n",
      "4       26146419                 4        WARNING SIGNS\n",
      "...          ...               ...                  ...\n",
      "6741    33431439                 3                OTHER\n",
      "6742    33431439                 4        WARNING SIGNS\n",
      "6743    33433119                 1               MEDIAN\n",
      "6744    33433119                 2  ADVISORY SPEED SIGN\n",
      "6745    33433119                 3        WARNING SIGNS\n",
      "\n",
      "[6746 rows x 3 columns]\n"
     ]
    }
   ],
   "source": [
    "\n",
    "# Combine all CSV files in the directory that begin with \"IncidentTrafficControl_\"\n",
    "csv_files = [f for f in os.listdir(directory_path)  if f.startswith(\"Vehicles_\") and f.endswith(\".csv\")]\n",
    "\n",
    "# Initialize an empty list to hold dataframes\n",
    "dataframes = []\n",
    "\n",
    "# Iterate through the CSV files and load them into dataframes\n",
    "for csv_file in csv_files:\n",
    "    file_path = os.path.join(directory_path, csv_file)\n",
    "    df = pd.read_csv(file_path)\n",
    "    dataframes.append(df)\n",
    "\n",
    "# Concatenate all dataframes into a single dataframe\n",
    "combined_vehicles_df = pd.concat(dataframes, ignore_index=True)\n",
    "\n",
    "# Drop any column with \"Unnamed\" in its name\n",
    "unnamed_columns = [col for col in combined_vehicles_df.columns if col.startswith('Unnamed')]\n",
    "combined_vehicles_df = combined_vehicles_df.drop(columns=unnamed_columns)\n",
    "\n",
    "# Set the option to display all columns\n",
    "pd.set_option('display.max_columns', None)\n",
    "\n",
    "print(\"All CSV files have been successfully loaded into a single DataFrame.\")\n",
    "print(combined_vehicles_df)"
   ]
  },
  {
   "cell_type": "code",
   "execution_count": 78,
   "metadata": {},
   "outputs": [
    {
     "name": "stdout",
     "output_type": "stream",
     "text": [
      "Dataframe exported successfully to /Users/terid/Git/CodeYou_Capstone/data/clean_crash_data/incident_traffic_controls.csv\n"
     ]
    }
   ],
   "source": [
    "\n",
    "# Specify the path where you want to save the CSV file\n",
    "output_path = '/Users/terid/Git/CodeYou_Capstone/data/clean_crash_data/incident_vehicles.csv'\n",
    "\n",
    "# Export the dataframe to a CSV file\n",
    "combined_vehicles_df.to_csv(output_path, index=False)\n",
    "\n",
    "print(f\"Dataframe exported successfully to {output_path}\")\n"
   ]
  },
  {
   "cell_type": "code",
   "execution_count": 80,
   "metadata": {},
   "outputs": [
    {
     "name": "stdout",
     "output_type": "stream",
     "text": [
      "Data from      IncidentId  TrafficControlNo       TrafficControl  Unnamed: 3\n",
      "0      32658708                 1               MEDIAN         NaN\n",
      "1      32659228                 1               MEDIAN         NaN\n",
      "2      32672935                 1               MEDIAN         NaN\n",
      "3      32676655                 1  ADVISORY SPEED SIGN         NaN\n",
      "4      32676655                 2          CENTER LINE         NaN\n",
      "..          ...               ...                  ...         ...\n",
      "695    33431439                 3                OTHER         NaN\n",
      "696    33431439                 4        WARNING SIGNS         NaN\n",
      "697    33433119                 1               MEDIAN         NaN\n",
      "698    33433119                 2  ADVISORY SPEED SIGN         NaN\n",
      "699    33433119                 3        WARNING SIGNS         NaN\n",
      "\n",
      "[700 rows x 4 columns] has been successfully inserted into the collision_incidents table.\n"
     ]
    }
   ],
   "source": [
    "\n",
    "# Write the DataFrame to the SQLite table\n",
    "combined_vehicles_df.to_sql('incident_vehicles', conn, if_exists='append', index=False)\n",
    "\n",
    "# Commit the changes and close the connection\n",
    "conn.commit()\n",
    "conn.close()\n",
    "\n",
    "print(f\"Data from {df} has been successfully inserted into the collision_incidents table.\")\n"
   ]
  }
 ],
 "metadata": {
  "kernelspec": {
   "display_name": "venv",
   "language": "python",
   "name": "python3"
  },
  "language_info": {
   "codemirror_mode": {
    "name": "ipython",
    "version": 3
   },
   "file_extension": ".py",
   "mimetype": "text/x-python",
   "name": "python",
   "nbconvert_exporter": "python",
   "pygments_lexer": "ipython3",
   "version": "3.12.2"
  }
 },
 "nbformat": 4,
 "nbformat_minor": 2
}
