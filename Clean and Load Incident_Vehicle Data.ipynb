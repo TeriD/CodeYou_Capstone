{
 "cells": [
  {
   "cell_type": "markdown",
   "metadata": {},
   "source": [
    "This script will prepare a new spatial database to hold the KSP, KYTC API and WeatherService data.\n"
   ]
  },
  {
   "cell_type": "code",
   "execution_count": 32,
   "metadata": {},
   "outputs": [],
   "source": [
    "import os\n",
    "import pandas as pd\n",
    "import sqlite3"
   ]
  },
  {
   "cell_type": "code",
   "execution_count": 72,
   "metadata": {},
   "outputs": [],
   "source": [
    "# Define the path for the SQLite database\n",
    "database_path = r'/Users/terid/Git/CodeYou_Capstone/data/crash_data.db'\n",
    "os.makedirs(os.path.dirname(database_path), exist_ok=True)\n",
    "\n",
    "# Define the path for the raw crash data files downloaded\n",
    "directory_path = '/Users/terid/Git/CodeYou_Capstone/data/raw_crash_data'"
   ]
  },
  {
   "cell_type": "code",
   "execution_count": 34,
   "metadata": {},
   "outputs": [],
   "source": [
    "# Function to check if tables created in the database exist\n",
    "def check_table_exists(db_path, table_name):\n",
    "    # Connect to the SQLite database\n",
    "    conn = sqlite3.connect(db_path)\n",
    "    cursor = conn.cursor()\n",
    "\n",
    "    # Query to check if the table exists\n",
    "    cursor.execute('''\n",
    "        SELECT name\n",
    "        FROM sqlite_master\n",
    "        WHERE type='table' AND name=?\n",
    "    ''', (table_name,))\n",
    "\n",
    "    # Fetch one record\n",
    "    table_exists = cursor.fetchone() is not None\n",
    "\n",
    "    # Close the connection\n",
    "    conn.close()\n",
    "\n",
    "    return table_exists"
   ]
  },
  {
   "cell_type": "code",
   "execution_count": 35,
   "metadata": {},
   "outputs": [],
   "source": [
    "# Function to check if tables created in the database have data\n",
    "def check_table_has_data(db_path, table_name):\n",
    "    # Connect to the SQLite database\n",
    "    conn = sqlite3.connect(db_path)\n",
    "    cursor = conn.cursor()\n",
    "\n",
    "    # Query to count the number of rows in the table\n",
    "    cursor.execute(f'SELECT COUNT(*) FROM {table_name}')\n",
    "\n",
    "    # Fetch the count\n",
    "    row_count = cursor.fetchone()[0]\n",
    "\n",
    "    # Close the connection\n",
    "    conn.close()\n",
    "\n",
    "    return row_count > 0\n"
   ]
  },
  {
   "cell_type": "code",
   "execution_count": 73,
   "metadata": {},
   "outputs": [],
   "source": [
    "# Create/Connect to SQLite database\n",
    "conn = sqlite3.connect(database_path)\n",
    "cursor = conn.cursor()"
   ]
  },
  {
   "cell_type": "code",
   "execution_count": 63,
   "metadata": {},
   "outputs": [
    {
     "data": {
      "text/plain": [
       "<sqlite3.Cursor at 0x125315ac0>"
      ]
     },
     "execution_count": 63,
     "metadata": {},
     "output_type": "execute_result"
    }
   ],
   "source": [
    "# Create collision incidents table in database\n",
    "cursor.execute('''CREATE TABLE IF NOT EXISTS collision_incidents (\n",
    "        IncidentID int,\n",
    "        AgencyORI int,\n",
    "        AgencyName TEXT,\n",
    "        IncidentStatusDesc TEXT,\n",
    "        County TEXT,\n",
    "        RdwyNumber TEXT,\n",
    "        Street TEXT,\n",
    "        RoadwayName TEXT,\n",
    "        StreetSfx TEXT,\n",
    "        StreetDir TEXT,\n",
    "        IntersectionRdwy TEXT,\n",
    "        IntersectionRdwyName TEXT,\n",
    "        BetweenStRdwy1 TEXT,\n",
    "        BetweenStRdwyName1 TEXT,\n",
    "        BetweenStRdwy2 TEXT,\n",
    "        BetweenStRdwyName2 TEXT,\n",
    "        Latitude REAL,\n",
    "        Longitude REAL,\n",
    "        Milepoint REAL,\n",
    "        CollisionDate DATE,\n",
    "        CollisionTime TIME,\n",
    "        UnitsInvolved INT,\n",
    "        MotorVehiclesInvolved INT,\n",
    "        NumberKilled INT,\n",
    "        NumberInjured INT,\n",
    "        Weather TEXT,\n",
    "        RdwyConditionCode INT,\n",
    "        HitandRun TEXT,\n",
    "        DirAnalysisCode\tTEXT,\n",
    "        MannerofCollision TEXT,\n",
    "        RdwyCharacter TEXT,\n",
    "        LightCondition TEXT,\n",
    "        RampFromRdwyId TEXT,\n",
    "        RampToRdwyId TEXT,\n",
    "        AcceptedDate DATE,\n",
    "        IsSecondaryCollision TEXT,\n",
    "        OwnerBadge TEXT,\n",
    "        IncidentStatus TEXT);''')"
   ]
  },
  {
   "cell_type": "code",
   "execution_count": 38,
   "metadata": {},
   "outputs": [
    {
     "data": {
      "text/plain": [
       "<sqlite3.Cursor at 0x124ccb0c0>"
      ]
     },
     "execution_count": 38,
     "metadata": {},
     "output_type": "execute_result"
    }
   ],
   "source": [
    "# Create table incident_traffic_control in database\n",
    "cursor.execute('''CREATE TABLE IF NOT EXISTS incident_traffic_control (\n",
    "        IncidentID int,\n",
    "        TrafficControlNo int,\n",
    "        TrafficControl TEXT);''')"
   ]
  },
  {
   "cell_type": "code",
   "execution_count": 39,
   "metadata": {},
   "outputs": [
    {
     "data": {
      "text/plain": [
       "<sqlite3.Cursor at 0x124ccb0c0>"
      ]
     },
     "execution_count": 39,
     "metadata": {},
     "output_type": "execute_result"
    }
   ],
   "source": [
    "# Create table incident_vehicles in database\n",
    "cursor.execute('''CREATE TABLE IF NOT EXISTS incident_vehicles (\n",
    "        IncidentID INT,\n",
    "        UnitNumber INT,\n",
    "        UnitType TEXT,\n",
    "        AirbagSwitchCde TEXT,\n",
    "        IsCommercialVeh TEXT,\n",
    "        CrashAvoidCde TEXT,\n",
    "        DriverIdentifiedCde TEXT,\n",
    "        EventCollWithFirstCde TEXT,\n",
    "        EventCollWithSecondCde TEXT,\n",
    "        HasFire TEXT,\n",
    "        PreCollActionCde TEXT,\n",
    "        UnderOverrideCde TEXT,\n",
    "        VehicleIsInsured TEXT,\n",
    "        MakeCde TEXT,\n",
    "        ModelCde TEXT,\n",
    "        VehicleType TEXT,\n",
    "        MakeDescription TEXT,\n",
    "        ModelDescription TEXT);''')"
   ]
  },
  {
   "cell_type": "code",
   "execution_count": 40,
   "metadata": {},
   "outputs": [
    {
     "name": "stdout",
     "output_type": "stream",
     "text": [
      "['IncidentID', 'UnitNumber', 'UnitType', 'AirbagSwitchCde', 'IsCommercialVeh', 'CrashAvoidCde', 'DriverIdentifiedCde', 'EventCollWithFirstCde', 'EventCollWithSecondCde', 'HasFire', 'PreCollActionCde', 'UnderOverrideCde', 'VehicleIsInsured', 'MakeCde', 'ModelCde', 'VehicleType', 'MakeDescription', 'ModelDescription', 'Unnamed: 18']\n"
     ]
    }
   ],
   "source": [
    "# temp section to read the column names to create table columns\n",
    "\n",
    "def read_column_names(csv_file_path):\n",
    "\n",
    "    # Read only the first row of the CSV to get the column names\n",
    "    df = pd.read_csv(csv_file_path, nrows=0)\n",
    "    column_names = df.columns.tolist()\n",
    "    return column_names\n",
    "\n",
    "# Example usage:\n",
    "#csv_file_path = '/Users/terid/Git/CodeYou_Capstone/data/raw_crash_data/incidents_2024.csv'\n",
    "#csv_file_path = '/Users/terid/Git/CodeYou_Capstone/data/raw_crash_data/incidentTrafficControl_2024.csv'\n",
    "csv_file_path = '/Users/terid/Git/CodeYou_Capstone/data/raw_crash_data/Vehicles_2024.csv'\n",
    "\n",
    "columns = read_column_names(csv_file_path)\n",
    "print(columns)\n"
   ]
  },
  {
   "cell_type": "code",
   "execution_count": 74,
   "metadata": {},
   "outputs": [
    {
     "name": "stdout",
     "output_type": "stream",
     "text": [
      "The table 'collision_incidents' exists.\n",
      "The table 'incident_traffic_control' exists.\n",
      "The table 'incident_vehicles' exists.\n"
     ]
    }
   ],
   "source": [
    "# Check to see if tables created exist\n",
    "table_names = ('collision_incidents','incident_traffic_control','incident_vehicles')\n",
    "for table in table_names:\n",
    "    if check_table_exists(database_path, table):\n",
    "        print(f\"The table '{table}' exists.\")\n",
    "    else:\n",
    "        print(f\"The table '{table}' does not exist.\")\n"
   ]
  },
  {
   "cell_type": "code",
   "execution_count": 75,
   "metadata": {},
   "outputs": [
    {
     "name": "stdout",
     "output_type": "stream",
     "text": [
      "The table 'collision_incidents' contains data.\n",
      "The table 'incident_traffic_control' is empty.\n",
      "The table 'incident_vehicles' contains data.\n"
     ]
    }
   ],
   "source": [
    "# Check of tables created are empty\n",
    "\n",
    "table_names = ('collision_incidents','incident_traffic_control','incident_vehicles')\n",
    "for table in table_names:\n",
    "    if check_table_has_data(database_path, table):\n",
    "        print(f\"The table '{table}' contains data.\")\n",
    "    else:\n",
    "        print(f\"The table '{table}' is empty.\")\n"
   ]
  },
  {
   "cell_type": "code",
   "execution_count": 68,
   "metadata": {},
   "outputs": [
    {
     "name": "stdout",
     "output_type": "stream",
     "text": [
      "All CSV files have been successfully loaded into a single DataFrame.\n",
      "      IncidentID AgencyORI                     AgencyName IncidentStatusDesc  \\\n",
      "0       32655798    150000   BULLITT COUNTY SHERIFF DEPT.           Accepted   \n",
      "1       32660760    568000   LOUISVILLE METRO POLICE DEPT           Accepted   \n",
      "2       32660920    568000   LOUISVILLE METRO POLICE DEPT           Accepted   \n",
      "3       32646189    150200  LEBANON JUNCTION POLICE DEPT.           Accepted   \n",
      "4       32654634    930400     OLDHAM COUNTY POLICE DEPT.           Accepted   \n",
      "...          ...       ...                            ...                ...   \n",
      "4100    32686833   0930400     OLDHAM COUNTY POLICE DEPT.           Accepted   \n",
      "4101    32672935   0150000   BULLITT COUNTY SHERIFF DEPT.           Accepted   \n",
      "4102    32676655   0790000  MARSHALL COUNTY SHERIFF DEPT.           Accepted   \n",
      "4103    32658708   0150000   BULLITT COUNTY SHERIFF DEPT.           Accepted   \n",
      "4104    32659228   0150000   BULLITT COUNTY SHERIFF DEPT.           Accepted   \n",
      "\n",
      "         County RdwyNumber Street RoadwayName StreetSfx StreetDir  \\\n",
      "0       BULLITT     I 0065    NaN       I65 N       NaN       NaN   \n",
      "1     JEFFERSON     I 0265    NaN     I265 SB       NaN       NaN   \n",
      "2     JEFFERSON     I 0265    NaN     I265 WB       NaN       NaN   \n",
      "3       BULLITT     I 0065    NaN       I65 N       NaN       NaN   \n",
      "4        OLDHAM     I 0071    NaN       I71 S       NaN       NaN   \n",
      "...         ...        ...    ...         ...       ...       ...   \n",
      "4100     OLDHAM     I 0071    NaN       I71 N       NaN       NaN   \n",
      "4101    BULLITT     I 0065    NaN      I65 NB       NaN       NaN   \n",
      "4102   MARSHALL     I 0024    NaN       I24 E       NaN       NaN   \n",
      "4103    BULLITT     I 0065    NaN      I65 NB       NaN       NaN   \n",
      "4104    BULLITT     I 0065    NaN      I65 SB       NaN       NaN   \n",
      "\n",
      "     IntersectionRdwy IntersectionRdwyName BetweenStRdwy1  \\\n",
      "0                 NaN                  NaN            NaN   \n",
      "1                 NaN                  NaN            NaN   \n",
      "2                 NaN                  NaN            NaN   \n",
      "3                 NaN                  NaN            NaN   \n",
      "4                 NaN                  NaN         I 0071   \n",
      "...               ...                  ...            ...   \n",
      "4100              NaN                  NaN            NaN   \n",
      "4101              NaN                  NaN            NaN   \n",
      "4102              NaN                  NaN            NaN   \n",
      "4103              NaN                  NaN         I 0065   \n",
      "4104              NaN                  NaN            NaN   \n",
      "\n",
      "                  BetweenStRdwyName1 BetweenStRdwy2  \\\n",
      "0                                NaN            NaN   \n",
      "1                                NaN            NaN   \n",
      "2                                NaN            NaN   \n",
      "3                                NaN            NaN   \n",
      "4     I71 S EXIT22 ON RAMP FROM KY53         I 0071   \n",
      "...                              ...            ...   \n",
      "4100                             NaN            NaN   \n",
      "4101                             NaN            NaN   \n",
      "4102                             NaN            NaN   \n",
      "4103              I65 TURN AROUND107         I 0065   \n",
      "4104                             NaN            NaN   \n",
      "\n",
      "                  BetweenStRdwyName2   Latitude  Longitude  Milepoint  \\\n",
      "0                                NaN  37.898087 -85.698205    109.800   \n",
      "1                                NaN  38.242908 -85.503807     26.841   \n",
      "2                                NaN  38.218664 -85.506102     25.164   \n",
      "3                                NaN  37.873039 -85.703127    108.032   \n",
      "4     I71 S EXIT19 OFF RAMP TO KY393  38.383366 -85.415734     19.289   \n",
      "...                              ...        ...        ...        ...   \n",
      "4100                             NaN  38.335149 -85.527545     12.365   \n",
      "4101                             NaN  37.827776 -85.720802    104.723   \n",
      "4102                             NaN  37.020876 -88.291458     28.874   \n",
      "4103              I65 TURN AROUND109  37.893029 -85.699513    109.400   \n",
      "4104                             NaN  37.898064 -85.698788    109.797   \n",
      "\n",
      "             CollisionDate  CollisionTime  UnitsInvolved  \\\n",
      "0            12/30/23 0:00         1708.0              3   \n",
      "1            12/30/23 0:00          356.0              1   \n",
      "2            12/29/23 0:00         1612.0              2   \n",
      "3            12/28/23 0:00         1400.0              2   \n",
      "4            12/28/23 0:00          920.0              1   \n",
      "...                    ...            ...            ...   \n",
      "4100  1/3/2024 12:00:00 AM           39.0              1   \n",
      "4101  1/2/2024 12:00:00 AM          720.0              2   \n",
      "4102  1/2/2024 12:00:00 AM         1701.0              2   \n",
      "4103  1/1/2024 12:00:00 AM         1450.0              3   \n",
      "4104  1/1/2024 12:00:00 AM         2100.0              2   \n",
      "\n",
      "      MotorVehiclesInvolved  NumberKilled  NumberInjured        Weather  \\\n",
      "0                         3             0              0         CLOUDY   \n",
      "1                         1             0              0  FOG WITH RAIN   \n",
      "2                         2             0              0          CLEAR   \n",
      "3                         2             0              0         CLOUDY   \n",
      "4                         1             0              1         CLOUDY   \n",
      "...                     ...           ...            ...            ...   \n",
      "4100                      1             0              0          CLEAR   \n",
      "4101                      2             0              0         CLOUDY   \n",
      "4102                      2             0              2          CLEAR   \n",
      "4103                      3             0              0         CLOUDY   \n",
      "4104                      2             0              0          CLEAR   \n",
      "\n",
      "     RdwyConditionCode  HitandRun  \\\n",
      "0                  DRY      False   \n",
      "1                  WET      False   \n",
      "2                  DRY      False   \n",
      "3                  DRY      False   \n",
      "4                  WET      False   \n",
      "...                ...        ...   \n",
      "4100               DRY      False   \n",
      "4101               DRY       True   \n",
      "4102               DRY      False   \n",
      "4103               DRY      False   \n",
      "4104               DRY       True   \n",
      "\n",
      "                                        DirAnalysisCode  \\\n",
      "0        REAR END IN TRAFFIC LANES BOTH VEHICLES MOVING   \n",
      "1                  OTHER ROADWAY OR MID-BLOCK COLLISION   \n",
      "2                  SIDESWIPE COLLISION - SAME DIRECTION   \n",
      "3              SIDESWIPE COLLISION - OPPOSITE DIRECTION   \n",
      "4                          OTHER COLLISIONS ON SHOULDER   \n",
      "...                                                 ...   \n",
      "4100  RAN OFF ROADWAY (1 VEHICLE WITH/EARTH EMBANKME...   \n",
      "4101               SIDESWIPE COLLISION - SAME DIRECTION   \n",
      "4102     REAR END IN TRAFFIC LANES BOTH VEHICLES MOVING   \n",
      "4103     REAR END IN TRAFFIC LANES BOTH VEHICLES MOVING   \n",
      "4104               SIDESWIPE COLLISION - SAME DIRECTION   \n",
      "\n",
      "                 MannerofCollision     RdwyCharacter        LightCondition  \\\n",
      "0                         REAR END  STRAIGHT & LEVEL              DAYLIGHT   \n",
      "1                   SINGLE VEHICLE  STRAIGHT & LEVEL   DARK-HWY LIGHTED/ON   \n",
      "2         SIDESWIPE-SAME DIRECTION  STRAIGHT & LEVEL              DAYLIGHT   \n",
      "3     SIDESWIPE-OPPOSITE DIRECTION  STRAIGHT & GRADE              DAYLIGHT   \n",
      "4                   SINGLE VEHICLE  STRAIGHT & LEVEL              DAYLIGHT   \n",
      "...                            ...               ...                   ...   \n",
      "4100                SINGLE VEHICLE  STRAIGHT & GRADE  DARK-HWY NOT LIGHTED   \n",
      "4101      SIDESWIPE-SAME DIRECTION     CURVE & GRADE   DARK-HWY LIGHTED/ON   \n",
      "4102                      REAR END  STRAIGHT & LEVEL                  DUSK   \n",
      "4103                      REAR END     CURVE & LEVEL              DAYLIGHT   \n",
      "4104      SIDESWIPE-SAME DIRECTION  STRAIGHT & LEVEL  DARK-HWY NOT LIGHTED   \n",
      "\n",
      "     RampFromRdwyId RampToRdwyId         AcceptedDate  IsSecondaryCollision  \\\n",
      "0               NaN          NaN          1/1/24 0:03                 False   \n",
      "1               NaN          NaN          1/2/24 9:20                 False   \n",
      "2               NaN          NaN          1/2/24 9:34                 False   \n",
      "3               NaN          NaN       12/28/23 19:19                 False   \n",
      "4               NaN          NaN       12/31/23 16:24                 False   \n",
      "...             ...          ...                  ...                   ...   \n",
      "4100            NaN          NaN  1/5/2024 3:10:56 AM                 False   \n",
      "4101            NaN          NaN  1/2/2024 2:51:42 PM                 False   \n",
      "4102            NaN          NaN  1/3/2024 9:06:24 AM                 False   \n",
      "4103            NaN          NaN  1/1/2024 9:35:20 PM                 False   \n",
      "4104            NaN          NaN  1/2/2024 1:08:15 AM                 False   \n",
      "\n",
      "     OwnerBadge IncidentStatus  \n",
      "0          1284       Accepted  \n",
      "1          5533       Accepted  \n",
      "2          8461       Accepted  \n",
      "3           601       Accepted  \n",
      "4          3105       Accepted  \n",
      "...         ...            ...  \n",
      "4100       3116       Accepted  \n",
      "4101       1248       Accepted  \n",
      "4102         13       Accepted  \n",
      "4103       1282       Accepted  \n",
      "4104       1323       Accepted  \n",
      "\n",
      "[4105 rows x 38 columns]\n"
     ]
    }
   ],
   "source": [
    "\n",
    "# Append collision_incidents to database table\n",
    "csv_files = [f for f in os.listdir(directory_path) if f.startswith(\"Incidents_\") and f.endswith(\".csv\")]\n",
    "\n",
    "# Initialize an empty list to hold dataframes\n",
    "dataframes = []\n",
    "\n",
    "# Iterate through the CSV files and load them into dataframes\n",
    "for csv_file in csv_files:\n",
    "    file_path = os.path.join(directory_path, csv_file)\n",
    "    df = pd.read_csv(file_path)\n",
    "    dataframes.append(df)\n",
    "\n",
    "# Concatenate all dataframes into a single dataframe\n",
    "combined_incidents_df = pd.concat(dataframes, ignore_index=True)\n",
    "\n",
    "# Drop the 'Unnamed: 38' column if it exists\n",
    "if 'Unnamed: 38' in combined_incidents_df.columns:\n",
    "    combined_incidents_df = combined_incidents_df.drop(columns=['Unnamed: 38'])\n",
    "\n",
    "# Set the option to display all columns\n",
    "pd.set_option('display.max_columns', None)\n",
    "\n",
    "print(\"All CSV files have been successfully loaded into a single DataFrame.\")\n",
    "print(combined_incidents_df)"
   ]
  },
  {
   "cell_type": "code",
   "execution_count": 76,
   "metadata": {},
   "outputs": [
    {
     "name": "stdout",
     "output_type": "stream",
     "text": [
      "All CSV files have been successfully loaded into a single DataFrame.\n",
      "      IncidentId  TrafficControlNo       TrafficControl\n",
      "0       26133281                 1     STOP & GO SIGNAL\n",
      "1       26146419                 1  ADVISORY SPEED SIGN\n",
      "2       26146419                 2          CENTER LINE\n",
      "3       26146419                 3                OTHER\n",
      "4       26146419                 4        WARNING SIGNS\n",
      "...          ...               ...                  ...\n",
      "6741    33431439                 3                OTHER\n",
      "6742    33431439                 4        WARNING SIGNS\n",
      "6743    33433119                 1               MEDIAN\n",
      "6744    33433119                 2  ADVISORY SPEED SIGN\n",
      "6745    33433119                 3        WARNING SIGNS\n",
      "\n",
      "[6746 rows x 3 columns]\n"
     ]
    }
   ],
   "source": [
    "\n",
    "# Combine all CSV files in the directory that begin with \"IncidentTrafficControl_\"\n",
    "#csv_files = [f for f in os.listdir(directory_path) if f.startswith(\"Incidents_\") and f.endswith(\".csv\")]\n",
    "csv_files = [f for f in os.listdir(directory_path) if f.startswith(\"IncidentTrafficControl_\") and f.endswith(\".csv\")]\n",
    "#csv_files = [f for f in os.listdir(directory_path)  if f.startswith(\"Vehicles_\") and f.endswith(\".csv\")]\n",
    "\n",
    "\n",
    "\n",
    "# Initialize an empty list to hold dataframes\n",
    "dataframes = []\n",
    "\n",
    "# Iterate through the CSV files and load them into dataframes\n",
    "for csv_file in csv_files:\n",
    "    file_path = os.path.join(directory_path, csv_file)\n",
    "    df = pd.read_csv(file_path)\n",
    "    dataframes.append(df)\n",
    "\n",
    "# Concatenate all dataframes into a single dataframe\n",
    "#combined_incidents_df = pd.concat(dataframes, ignore_index=True)\n",
    "combined_incidents_traffic_control_df = pd.concat(dataframes, ignore_index=True)\n",
    "# Drop the 'Unnamed: 3' column if it exists\n",
    "if 'Unnamed: 3' in combined_incidents_traffic_control_df.columns:\n",
    "    combined_incidents_traffic_control_df = combined_incidents_traffic_control_df.drop(columns=['Unnamed: 3'])\n",
    "\n",
    "# Set the option to display all columns\n",
    "pd.set_option('display.max_columns', None)\n",
    "\n",
    "print(\"All CSV files have been successfully loaded into a single DataFrame.\")\n",
    "print(combined_incidents_traffic_control_df)"
   ]
  },
  {
   "cell_type": "code",
   "execution_count": 78,
   "metadata": {},
   "outputs": [
    {
     "name": "stdout",
     "output_type": "stream",
     "text": [
      "Dataframe exported successfully to /Users/terid/Git/CodeYou_Capstone/data/clean_crash_data/incident_traffic_controls.csv\n"
     ]
    }
   ],
   "source": [
    "\n",
    "# Specify the path where you want to save the CSV file\n",
    "#output_path = '/Users/terid/Git/CodeYou_Capstone/data/clean_crash_data/collision_incidents.csv'\n",
    "output_path = '/Users/terid/Git/CodeYou_Capstone/data/clean_crash_data/incident_traffic_controls.csv'\n",
    "#output_path = '/Users/terid/Git/CodeYou_Capstone/data/clean_crash_data/incident_vehicles.csv'\n",
    "# Export the dataframe to a CSV file\n",
    "#combined_incidents_df.to_csv(output_path, index=False)\n",
    "combined_incidents_traffic_control_df.to_csv(output_path, index=False)\n",
    "#vehicles_df.to_csv(output_path, index=False)\n",
    "print(f\"Dataframe exported successfully to {output_path}\")\n"
   ]
  },
  {
   "cell_type": "code",
   "execution_count": null,
   "metadata": {},
   "outputs": [],
   "source": [
    "\n",
    "# Prepare the SQL insert statement dynamically based on DataFrame columns\n",
    "columns = ', '.join([f'\"{col}\"' for col in control_df.columns])\n",
    "\n",
    "placeholders = ', '.join(['?'] * len(control_df.columns))\n",
    "sql = f'INSERT INTO collision_incidents ({columns}) VALUES ({placeholders})'\n",
    "\n",
    "# Convert DataFrame to list of tuples\n",
    "data_to_insert = control_df.to_records(index=False)\n",
    "\n",
    "# Execute the SQL command using executemany\n",
    "cursor.executemany(sql, data_to_insert)\n",
    "\n",
    "# Commit changes and close the connection\n",
    "conn.commit()\n",
    "conn.close()\n",
    "\n",
    "\n",
    "print(\"Data successfully added to the SQLite database at\", database_path)"
   ]
  },
  {
   "cell_type": "code",
   "execution_count": 80,
   "metadata": {},
   "outputs": [
    {
     "name": "stdout",
     "output_type": "stream",
     "text": [
      "Data from      IncidentId  TrafficControlNo       TrafficControl  Unnamed: 3\n",
      "0      32658708                 1               MEDIAN         NaN\n",
      "1      32659228                 1               MEDIAN         NaN\n",
      "2      32672935                 1               MEDIAN         NaN\n",
      "3      32676655                 1  ADVISORY SPEED SIGN         NaN\n",
      "4      32676655                 2          CENTER LINE         NaN\n",
      "..          ...               ...                  ...         ...\n",
      "695    33431439                 3                OTHER         NaN\n",
      "696    33431439                 4        WARNING SIGNS         NaN\n",
      "697    33433119                 1               MEDIAN         NaN\n",
      "698    33433119                 2  ADVISORY SPEED SIGN         NaN\n",
      "699    33433119                 3        WARNING SIGNS         NaN\n",
      "\n",
      "[700 rows x 4 columns] has been successfully inserted into the collision_incidents table.\n"
     ]
    }
   ],
   "source": [
    "\n",
    "# Write the DataFrame to the SQLite table\n",
    "#combined_incidents_df.to_sql('collision_incidents', conn, if_exists='append', index=False)\n",
    "combined_incidents_traffic_control_df.to_sql('incident_Traffic_control', conn, if_exists='append', index=False)\n",
    "#vehicles_df.to_sql('incident_vehicles', conn, if_exists='append', index=False)\n",
    "\n",
    "# Commit the changes and close the connection\n",
    "conn.commit()\n",
    "conn.close()\n",
    "\n",
    "print(f\"Data from {df} has been successfully inserted into the collision_incidents table.\")\n"
   ]
  }
 ],
 "metadata": {
  "kernelspec": {
   "display_name": "venv",
   "language": "python",
   "name": "python3"
  },
  "language_info": {
   "codemirror_mode": {
    "name": "ipython",
    "version": 3
   },
   "file_extension": ".py",
   "mimetype": "text/x-python",
   "name": "python",
   "nbconvert_exporter": "python",
   "pygments_lexer": "ipython3",
   "version": "3.12.2"
  }
 },
 "nbformat": 4,
 "nbformat_minor": 2
}
